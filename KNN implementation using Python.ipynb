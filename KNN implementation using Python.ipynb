{
 "cells": [
  {
   "cell_type": "code",
   "execution_count": 100,
   "id": "4aecab54",
   "metadata": {},
   "outputs": [],
   "source": [
    "import numpy as np\n",
    "from sklearn.datasets import load_iris\n",
    "from sklearn.metrics import  accuracy_score\n",
    "from sklearn.model_selection import train_test_split\n",
    "from sklearn.neighbors import KNeighborsClassifier\n",
    "import matplotlib.pyplot as plt"
   ]
  },
  {
   "cell_type": "code",
   "execution_count": 101,
   "id": "a68ccc68",
   "metadata": {},
   "outputs": [],
   "source": [
    "class KNN_Implemented:\n",
    "    def __init__(self, k):\n",
    "        self.k = k\n",
    "\n",
    "    def fit_function(self, X, y):\n",
    "        self.X_train = X\n",
    "        self.y_train = y\n",
    "\n",
    "    def prediction(self, X_test):\n",
    "        self.predictions = []\n",
    "        for x_te in X_test:\n",
    "            self.error = []\n",
    "            self.dist = 0\n",
    "            for x_tr in self.X_train:\n",
    "                self.dist = np.sqrt(np.sum((x_te-x_tr)**2))\n",
    "                self.error.append(self.dist)\n",
    "            \n",
    "            self.index = np.argsort(self.error)[:self.k]\n",
    "            self.labels = []\n",
    "            for i in self.index:\n",
    "                self.labels.append(self.y_train[i])\n",
    "            self.classes = set(self.labels)\n",
    "            self.predicted_label = 0\n",
    "            self.max_count = 0\n",
    "            for i in self.classes:\n",
    "                if self.max_count< self.labels.count(i):\n",
    "                    self.predicted_label = i\n",
    "                    self.max_count = self.labels.count(i)\n",
    "            self.predictions.append(self.predicted_label)\n",
    "        return np.array(self.predictions)"
   ]
  },
  {
   "cell_type": "code",
   "execution_count": 102,
   "id": "87343790",
   "metadata": {},
   "outputs": [],
   "source": [
    "iris_data=load_iris()\n",
    "X_train,X_test,y_train,y_test=train_test_split(iris_data.data,iris_data.target,test_size=0.2,random_state=42)"
   ]
  },
  {
   "cell_type": "code",
   "execution_count": 103,
   "id": "4e4cd140",
   "metadata": {},
   "outputs": [],
   "source": [
    "real_error = []\n",
    "for i in range(1,41):\n",
    "    m = KNeighborsClassifier(i)\n",
    "    m.fit(X_train, y_train)\n",
    "    pred = m.predict(X_test)\n",
    "    real_error.append(np.mean(pred != y_test))"
   ]
  },
  {
   "cell_type": "code",
   "execution_count": 104,
   "id": "cf5df865",
   "metadata": {},
   "outputs": [
    {
     "name": "stdout",
     "output_type": "stream",
     "text": [
      "[0.0, 0.0, 0.0, 0.0, 0.0, 0.0, 0.03333333333333333, 0.0, 0.0, 0.0, 0.0, 0.0, 0.0, 0.0, 0.0, 0.0, 0.0, 0.0, 0.0, 0.0, 0.0, 0.0, 0.0, 0.0, 0.0, 0.0, 0.0, 0.0, 0.0, 0.0, 0.0, 0.0, 0.0, 0.0, 0.0, 0.03333333333333333, 0.0, 0.03333333333333333, 0.0, 0.03333333333333333]\n",
      "[1 0 2 1 1 0 1 2 1 1 2 0 0 0 0 1 2 1 1 2 0 1 0 2 2 2 2 2 0 0]\n",
      "Accuracy:  0.9666666666666667\n"
     ]
    }
   ],
   "source": [
    "print(real_error)\n",
    "print(pred)\n",
    "print(\"Accuracy: \",accuracy_score(pred,y_test))"
   ]
  },
  {
   "cell_type": "code",
   "execution_count": 105,
   "id": "186258cc",
   "metadata": {},
   "outputs": [],
   "source": [
    "implemented_error = []\n",
    "for i in range(1,41):\n",
    "    m = KNN_Implemented(k=i)\n",
    "    m.fit_function(X_train, y_train)\n",
    "    pred = m.prediction(X_test)\n",
    "    implemented_error.append(np.mean(pred != y_test))"
   ]
  },
  {
   "cell_type": "code",
   "execution_count": 106,
   "id": "40c8def1",
   "metadata": {},
   "outputs": [
    {
     "name": "stdout",
     "output_type": "stream",
     "text": [
      "[0.0, 0.0, 0.0, 0.0, 0.0, 0.0, 0.03333333333333333, 0.0, 0.0, 0.0, 0.0, 0.0, 0.0, 0.0, 0.0, 0.0, 0.0, 0.0, 0.0, 0.0, 0.0, 0.0, 0.0, 0.0, 0.0, 0.0, 0.0, 0.0, 0.0, 0.0, 0.0, 0.0, 0.0, 0.0, 0.0, 0.03333333333333333, 0.0, 0.03333333333333333, 0.0, 0.03333333333333333]\n"
     ]
    }
   ],
   "source": [
    "print(implemented_error)"
   ]
  },
  {
   "cell_type": "code",
   "execution_count": 107,
   "id": "9fdbfd0c",
   "metadata": {},
   "outputs": [
    {
     "name": "stdout",
     "output_type": "stream",
     "text": [
      "[1 0 2 1 1 0 1 2 1 1 2 0 0 0 0 1 2 1 1 2 0 1 0 2 2 2 2 2 0 0]\n"
     ]
    }
   ],
   "source": [
    "print(pred)"
   ]
  },
  {
   "cell_type": "code",
   "execution_count": 108,
   "id": "4f8d372d",
   "metadata": {},
   "outputs": [
    {
     "name": "stdout",
     "output_type": "stream",
     "text": [
      "Accuracy:  0.9666666666666667\n"
     ]
    }
   ],
   "source": [
    "print(\"Accuracy: \",accuracy_score(pred,y_test))"
   ]
  }
 ],
 "metadata": {
  "kernelspec": {
   "display_name": "Python 3 (ipykernel)",
   "language": "python",
   "name": "python3"
  },
  "language_info": {
   "codemirror_mode": {
    "name": "ipython",
    "version": 3
   },
   "file_extension": ".py",
   "mimetype": "text/x-python",
   "name": "python",
   "nbconvert_exporter": "python",
   "pygments_lexer": "ipython3",
   "version": "3.9.7"
  }
 },
 "nbformat": 4,
 "nbformat_minor": 5
}
